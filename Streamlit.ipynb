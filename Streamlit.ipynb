{
  "nbformat": 4,
  "nbformat_minor": 0,
  "metadata": {
    "colab": {
      "provenance": [],
      "authorship_tag": "ABX9TyMTYBxoKlr6YG3xq+DT7yEF",
      "include_colab_link": true
    },
    "kernelspec": {
      "name": "python3",
      "display_name": "Python 3"
    },
    "language_info": {
      "name": "python"
    }
  },
  "cells": [
    {
      "cell_type": "markdown",
      "metadata": {
        "id": "view-in-github",
        "colab_type": "text"
      },
      "source": [
        "<a href=\"https://colab.research.google.com/github/Khushi9898/Introduction-to-Streamlit/blob/main/Streamlit.ipynb\" target=\"_parent\"><img src=\"https://colab.research.google.com/assets/colab-badge.svg\" alt=\"Open In Colab\"/></a>"
      ]
    },
    {
      "cell_type": "code",
      "source": [
        "!pip install -U ipykernel"
      ],
      "metadata": {
        "colab": {
          "base_uri": "https://localhost:8080/"
        },
        "id": "kvsyORSb4S1W",
        "outputId": "1c19e86a-f006-4e8b-9707-8902825947fb"
      },
      "execution_count": null,
      "outputs": [
        {
          "output_type": "stream",
          "name": "stdout",
          "text": [
            "Requirement already satisfied: ipykernel in /usr/local/lib/python3.11/dist-packages (6.29.5)\n",
            "Requirement already satisfied: comm>=0.1.1 in /usr/local/lib/python3.11/dist-packages (from ipykernel) (0.2.2)\n",
            "Requirement already satisfied: debugpy>=1.6.5 in /usr/local/lib/python3.11/dist-packages (from ipykernel) (1.8.0)\n",
            "Requirement already satisfied: ipython>=7.23.1 in /usr/local/lib/python3.11/dist-packages (from ipykernel) (7.34.0)\n",
            "Requirement already satisfied: jupyter-client>=6.1.12 in /usr/local/lib/python3.11/dist-packages (from ipykernel) (6.1.12)\n",
            "Requirement already satisfied: jupyter-core!=5.0.*,>=4.12 in /usr/local/lib/python3.11/dist-packages (from ipykernel) (5.7.2)\n",
            "Requirement already satisfied: matplotlib-inline>=0.1 in /usr/local/lib/python3.11/dist-packages (from ipykernel) (0.1.7)\n",
            "Requirement already satisfied: nest-asyncio in /usr/local/lib/python3.11/dist-packages (from ipykernel) (1.6.0)\n",
            "Requirement already satisfied: packaging in /usr/local/lib/python3.11/dist-packages (from ipykernel) (24.2)\n",
            "Requirement already satisfied: psutil in /usr/local/lib/python3.11/dist-packages (from ipykernel) (5.9.5)\n",
            "Requirement already satisfied: pyzmq>=24 in /usr/local/lib/python3.11/dist-packages (from ipykernel) (24.0.1)\n",
            "Requirement already satisfied: tornado>=6.1 in /usr/local/lib/python3.11/dist-packages (from ipykernel) (6.4.2)\n",
            "Requirement already satisfied: traitlets>=5.4.0 in /usr/local/lib/python3.11/dist-packages (from ipykernel) (5.7.1)\n",
            "Requirement already satisfied: setuptools>=18.5 in /usr/local/lib/python3.11/dist-packages (from ipython>=7.23.1->ipykernel) (75.1.0)\n",
            "Requirement already satisfied: jedi>=0.16 in /usr/local/lib/python3.11/dist-packages (from ipython>=7.23.1->ipykernel) (0.19.2)\n",
            "Requirement already satisfied: decorator in /usr/local/lib/python3.11/dist-packages (from ipython>=7.23.1->ipykernel) (4.4.2)\n",
            "Requirement already satisfied: pickleshare in /usr/local/lib/python3.11/dist-packages (from ipython>=7.23.1->ipykernel) (0.7.5)\n",
            "Requirement already satisfied: prompt-toolkit!=3.0.0,!=3.0.1,<3.1.0,>=2.0.0 in /usr/local/lib/python3.11/dist-packages (from ipython>=7.23.1->ipykernel) (3.0.50)\n",
            "Requirement already satisfied: pygments in /usr/local/lib/python3.11/dist-packages (from ipython>=7.23.1->ipykernel) (2.18.0)\n",
            "Requirement already satisfied: backcall in /usr/local/lib/python3.11/dist-packages (from ipython>=7.23.1->ipykernel) (0.2.0)\n",
            "Requirement already satisfied: pexpect>4.3 in /usr/local/lib/python3.11/dist-packages (from ipython>=7.23.1->ipykernel) (4.9.0)\n",
            "Requirement already satisfied: python-dateutil>=2.1 in /usr/local/lib/python3.11/dist-packages (from jupyter-client>=6.1.12->ipykernel) (2.8.2)\n",
            "Requirement already satisfied: platformdirs>=2.5 in /usr/local/lib/python3.11/dist-packages (from jupyter-core!=5.0.*,>=4.12->ipykernel) (4.3.6)\n",
            "Requirement already satisfied: parso<0.9.0,>=0.8.4 in /usr/local/lib/python3.11/dist-packages (from jedi>=0.16->ipython>=7.23.1->ipykernel) (0.8.4)\n",
            "Requirement already satisfied: ptyprocess>=0.5 in /usr/local/lib/python3.11/dist-packages (from pexpect>4.3->ipython>=7.23.1->ipykernel) (0.7.0)\n",
            "Requirement already satisfied: wcwidth in /usr/local/lib/python3.11/dist-packages (from prompt-toolkit!=3.0.0,!=3.0.1,<3.1.0,>=2.0.0->ipython>=7.23.1->ipykernel) (0.2.13)\n",
            "Requirement already satisfied: six>=1.5 in /usr/local/lib/python3.11/dist-packages (from python-dateutil>=2.1->jupyter-client>=6.1.12->ipykernel) (1.17.0)\n"
          ]
        }
      ]
    },
    {
      "cell_type": "code",
      "source": [
        "!pip install -q streamlit"
      ],
      "metadata": {
        "id": "oijhG1Qm4TWT"
      },
      "execution_count": null,
      "outputs": []
    },
    {
      "cell_type": "code",
      "source": [
        "!pip install pyngrok"
      ],
      "metadata": {
        "colab": {
          "base_uri": "https://localhost:8080/"
        },
        "id": "J0rX6r5h4XYp",
        "outputId": "7f896907-1b57-4644-c579-769055af35c8"
      },
      "execution_count": null,
      "outputs": [
        {
          "output_type": "stream",
          "name": "stdout",
          "text": [
            "Requirement already satisfied: pyngrok in /usr/local/lib/python3.11/dist-packages (7.2.3)\n",
            "Requirement already satisfied: PyYAML>=5.1 in /usr/local/lib/python3.11/dist-packages (from pyngrok) (6.0.2)\n"
          ]
        }
      ]
    },
    {
      "cell_type": "code",
      "source": [
        "!ngrok config add-authtoken 2uFZtg7iqq1sJyNP9tzkjvTijDB_6W8z5HQeddmNSqxC69H8X"
      ],
      "metadata": {
        "colab": {
          "base_uri": "https://localhost:8080/"
        },
        "id": "aq5vfUCE4Zf_",
        "outputId": "5998aa08-ed03-4010-8b7d-40f3668e16bd"
      },
      "execution_count": null,
      "outputs": [
        {
          "output_type": "stream",
          "name": "stdout",
          "text": [
            "Authtoken saved to configuration file: /root/.config/ngrok/ngrok.yml\n"
          ]
        }
      ]
    },
    {
      "cell_type": "code",
      "source": [
        "# mount the drive\n",
        "from google.colab import drive\n",
        "drive.mount('/content/drive')"
      ],
      "metadata": {
        "colab": {
          "base_uri": "https://localhost:8080/"
        },
        "id": "h1iIuOJt_OhA",
        "outputId": "c5c98434-cb2d-4c1f-9cc3-c02a5167e64c"
      },
      "execution_count": null,
      "outputs": [
        {
          "output_type": "stream",
          "name": "stdout",
          "text": [
            "Drive already mounted at /content/drive; to attempt to forcibly remount, call drive.mount(\"/content/drive\", force_remount=True).\n"
          ]
        }
      ]
    },
    {
      "cell_type": "code",
      "source": [
        "%%writefile score.py\n",
        "\n",
        "import streamlit as st\n",
        "import time as t\n",
        "\n",
        "# title\n",
        "st.title(\"hello\")\n",
        "\n",
        "# header\n",
        "st.header(\"Machine Learning\")\n",
        "\n",
        "# subheader\n",
        "st.subheader(\"Linear Regression\")\n",
        "\n",
        "# to give information\n",
        "st.info(\"Information details of a user\")\n",
        "\n",
        "# Warning Message\n",
        "st.warning(\"come on time or else you will be marked absent\")\n",
        "\n",
        "# write\n",
        "st.write(\"employee name\")\n",
        "st.write(range(50))\n",
        "\n",
        "# show error message\n",
        "st.error(\"wrong password\")\n",
        "\n",
        "# success message\n",
        "st.success(\"congrats! you are selected\")\n",
        "\n",
        "# markdown\n",
        "st.markdown(\"# This is a markdown\")\n",
        "st.markdown(\"## This is a markdown\")\n",
        "st.markdown(\"### This is a markdown\")\n",
        "# print emoji using markdown\n",
        "st.markdown(\":moon:\")\n",
        "\n",
        "# text\n",
        "st.text(\"text\")\n",
        "\n",
        "# to write caption\n",
        "st.caption(\"caption is here\")\n",
        "\n",
        "# to display mathematical equation\n",
        "st.latex(r''' a + b x^2 + c''')\n",
        "\n",
        "# image\n",
        "st.image('/content/drive/MyDrive/scenery.jpg')\n",
        "\n",
        "# widgets\n",
        "\n",
        "# checkbox\n",
        "st.checkbox(\"Login\")\n",
        "\n",
        "# button\n",
        "st.button(\"click\")\n",
        "\n",
        "# radio widget\n",
        "st.radio(\"pick your gender\", [\"male\", \"female\", \"other\"])\n",
        "\n",
        "# select\n",
        "st.selectbox(\"pick your course\", [\"ML\", \"DL\", \"CS\"])\n",
        "\n",
        "# multi select\n",
        "st.multiselect(\"choose the department\", [\"content\", \"sales\", \"marketing\"])\n",
        "\n",
        "# select silder\n",
        "st.select_slider(\"rating\", [\"bad\", \"good\", \"excellant\", \"outstanding\"])\n",
        "\n",
        "# slider\n",
        "st.slider(\"enter your number\", 0, 100)\n",
        "\n",
        "# number input\n",
        "st.number_input(\"pick a number\", 0, 100)\n",
        "\n",
        "# text input\n",
        "st.text_input(\"enter your mail address\")\n",
        "\n",
        "# date input\n",
        "st.date_input(\"opening ceremony\")\n",
        "\n",
        "# time input\n",
        "st.time_input(\"hey! what is the time?\")\n",
        "\n",
        "\n",
        "# text area\n",
        "st.text_area(\"welcome to this app\")\n",
        "\n",
        "# for uploading file\n",
        "st.file_uploader(\"upload your file\")\n",
        "\n",
        "# choosing a color\n",
        "st.color_picker(\"pick a color\")\n",
        "\n",
        "# to see the progress (like how of the course is completed i.e., track record)\n",
        "st.progress(90)\n",
        "\n",
        "# spinner - display a temporary waiting msg during execution\n",
        "with st.spinner(\"waiting...\"):\n",
        "    t.sleep(0)\n",
        "    st.text(\"hello\")\n",
        "\n",
        "# balloon - for celebration\n",
        "st.balloons()\n",
        "\n",
        "# side bar\n",
        "st.sidebar.title(\"welcome to the app\")\n",
        "st.sidebar.text_input(\"mail address\")\n",
        "st.sidebar.text_input(\"password\")\n",
        "st.sidebar.button(\"submit\")\n",
        "st.sidebar.radio(\"pick age\", [30, 20, 10])\n",
        "\n",
        "# data visualization\n",
        "import pandas as pd\n",
        "import numpy as np\n",
        "st.title(\"bar chart\")\n",
        "data = pd.DataFrame(np.random.randn(50, 3), columns=[\"a\", \"b\", \"c\"])\n",
        "st.bar_chart(data)\n",
        "\n",
        "st.title(\"line chart\")\n",
        "st.line_chart(data)\n",
        "\n",
        "st.title(\"area chart\")\n",
        "st.area_chart(data)"
      ],
      "metadata": {
        "colab": {
          "base_uri": "https://localhost:8080/"
        },
        "id": "ci_X-phK4h4O",
        "outputId": "b8cdcb35-e9ea-4957-a0e1-2cb70cb8ffa8"
      },
      "execution_count": 62,
      "outputs": [
        {
          "output_type": "stream",
          "name": "stdout",
          "text": [
            "Overwriting score.py\n"
          ]
        }
      ]
    },
    {
      "cell_type": "code",
      "source": [
        "!nohup streamlit run score.py &"
      ],
      "metadata": {
        "colab": {
          "base_uri": "https://localhost:8080/"
        },
        "id": "pvMh2JIR4cNS",
        "outputId": "62de0884-15ad-48fd-d1f0-ded492ee7d7b"
      },
      "execution_count": 37,
      "outputs": [
        {
          "output_type": "stream",
          "name": "stdout",
          "text": [
            "nohup: appending output to 'nohup.out'\n"
          ]
        }
      ]
    },
    {
      "cell_type": "code",
      "source": [
        "from pyngrok import ngrok"
      ],
      "metadata": {
        "id": "zEGpErY-4hJ6"
      },
      "execution_count": null,
      "outputs": []
    },
    {
      "cell_type": "code",
      "source": [
        "# List existing tunnels\n",
        "for tunnel in ngrok.get_tunnels():\n",
        "    print(tunnel)\n",
        "    # Disconnect all existing tunnels\n",
        "    ngrok.disconnect(tunnel.public_url)"
      ],
      "metadata": {
        "id": "C0eMIDRz6_5o"
      },
      "execution_count": null,
      "outputs": []
    },
    {
      "cell_type": "code",
      "source": [
        "# Define the tunnel configuration\n",
        "tunnel_config = {\n",
        "    \"addr\": 8501,  # Specify the port here\n",
        "    \"proto\": \"http\"  # Or \"tcp\" if needed\n",
        "}\n",
        "\n",
        "# Connect with the configuration\n",
        "url = ngrok.connect(**tunnel_config)\n",
        "url"
      ],
      "metadata": {
        "colab": {
          "base_uri": "https://localhost:8080/"
        },
        "id": "WmWBIG1f4tf8",
        "outputId": "90fadc10-4924-4656-9470-1dd8b5b83ddd"
      },
      "execution_count": null,
      "outputs": [
        {
          "output_type": "execute_result",
          "data": {
            "text/plain": [
              "<NgrokTunnel: \"https://f0c8-34-125-200-137.ngrok-free.app\" -> \"http://localhost:8501\">"
            ]
          },
          "metadata": {},
          "execution_count": 20
        }
      ]
    },
    {
      "cell_type": "code",
      "source": [
        "# show what happen when the program started\n",
        "!cat nohup.out"
      ],
      "metadata": {
        "colab": {
          "base_uri": "https://localhost:8080/"
        },
        "id": "gNReI3TJ4yVf",
        "outputId": "ffbf905f-032e-4bd9-ccd0-b4fa9ce0c9d8"
      },
      "execution_count": null,
      "outputs": [
        {
          "output_type": "stream",
          "name": "stdout",
          "text": [
            "\n",
            "Collecting usage statistics. To deactivate, set browser.gatherUsageStats to false.\n",
            "\n",
            "\n",
            "  You can now view your Streamlit app in your browser.\n",
            "\n",
            "  Local URL: http://localhost:8501\n",
            "  Network URL: http://172.28.0.12:8501\n",
            "  External URL: http://34.125.200.137:8501\n",
            "\n",
            "\n",
            "Collecting usage statistics. To deactivate, set browser.gatherUsageStats to false.\n",
            "\n",
            "\n",
            "  You can now view your Streamlit app in your browser.\n",
            "\n",
            "  Local URL: http://localhost:8502\n",
            "  Network URL: http://172.28.0.12:8502\n",
            "  External URL: http://34.125.200.137:8502\n",
            "\n"
          ]
        }
      ]
    },
    {
      "cell_type": "code",
      "source": [],
      "metadata": {
        "id": "1TsxvY5p7a2m"
      },
      "execution_count": null,
      "outputs": []
    }
  ]
}